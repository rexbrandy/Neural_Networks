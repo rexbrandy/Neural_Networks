{
  "nbformat": 4,
  "nbformat_minor": 0,
  "metadata": {
    "colab": {
      "provenance": [],
      "authorship_tag": "ABX9TyNiPNBJaFQ8dNVSoJ6BBa6p"
    },
    "kernelspec": {
      "name": "python3",
      "display_name": "Python 3"
    },
    "language_info": {
      "name": "python"
    }
  },
  "cells": [
    {
      "cell_type": "markdown",
      "source": [
        "# Data Transforms\n",
        "\n",
        "In this code snippet I have built custom transform classes and have some example code to show how they change the data."
      ],
      "metadata": {
        "id": "1zRwrIOPl3K0"
      }
    },
    {
      "cell_type": "code",
      "execution_count": 7,
      "metadata": {
        "colab": {
          "base_uri": "https://localhost:8080/"
        },
        "id": "fHhXtoBSyXjk",
        "outputId": "6c7fc725-5fe5-484e-c279-cdc6aed5e8ed"
      },
      "outputs": [
        {
          "output_type": "stream",
          "name": "stdout",
          "text": [
            "<class 'torch.Tensor'> tensor([1.4230e+01, 1.7100e+00, 2.4300e+00, 1.5600e+01, 1.2700e+02, 2.8000e+00,\n",
            "        3.0600e+00, 2.8000e-01, 2.2900e+00, 5.6400e+00, 1.0400e+00, 3.9200e+00,\n",
            "        1.0650e+03])\n",
            "<class 'torch.Tensor'> tensor([1.])\n",
            "\n",
            "<class 'torch.Tensor'> tensor([2.8460e+01, 3.4200e+00, 4.8600e+00, 3.1200e+01, 2.5400e+02, 5.6000e+00,\n",
            "        6.1200e+00, 5.6000e-01, 4.5800e+00, 1.1280e+01, 2.0800e+00, 7.8400e+00,\n",
            "        2.1300e+03])\n",
            "<class 'torch.Tensor'> tensor([1.])\n",
            "\n"
          ]
        }
      ],
      "source": [
        "import torch\n",
        "import torchvision\n",
        "from torch.utils.data import Dataset, DataLoader\n",
        "import numpy as np\n",
        "import math\n",
        "\n",
        "class WineDataset(Dataset):\n",
        "    '''\n",
        "        This is an example of a custom Dataset module \n",
        "        that inherits the torch.utils.data.Dataset class\n",
        "    '''\n",
        "    def __init__(self, transform=None):\n",
        "        file_name = './data/wine.csv'\n",
        "\n",
        "        xy = np.loadtxt(file_name, delimiter=',', dtype=np.float32, skiprows=1)\n",
        "\n",
        "        self.n_samples = xy.shape[0]\n",
        "  \n",
        "        self.x = xy[:, 1:] # every row and from every row the 1st to last elements\n",
        "        self.y = xy[:, [0]] # every row and just the 0th element\n",
        "\n",
        "        self.transform = transform\n",
        "        \n",
        "    def __getitem__(self, index):\n",
        "        # access class via index: dataset[0]\n",
        "        sample = self.x[index], self.y[index]\n",
        "\n",
        "        if self.transform:\n",
        "            sample = self.transform(sample)\n",
        "\n",
        "        return sample\n",
        "\n",
        "    def __len__(self):\n",
        "        # override len(): len(dataset)\n",
        "        return self.n_samples\n",
        "\n",
        "class ToTensor:\n",
        "    def __call__(self, sample):\n",
        "        inputs, targets = sample\n",
        "        return torch.from_numpy(inputs), torch.from_numpy(targets)\n",
        "\n",
        "class MulTransform:\n",
        "    def __init__(self, factor):\n",
        "        self.factor = factor\n",
        "\n",
        "    def __call__(self, sample):\n",
        "        inputs, targets = sample\n",
        "        inputs *= self.factor\n",
        "        return inputs, targets\n",
        "\n",
        "dataset = WineDataset(transform=ToTensor())\n",
        "first_data = dataset[0]\n",
        "features, labels = first_data\n",
        "print(type(features), features)\n",
        "print(type(labels), labels)\n",
        "print()\n",
        "\n",
        "composed = torchvision.transforms.Compose([ToTensor(), MulTransform(2)])\n",
        "dataset = WineDataset(transform=composed)\n",
        "first_data = dataset[0]\n",
        "features, labels = first_data\n",
        "print(type(features), features)\n",
        "print(type(labels), labels)\n",
        "print()"
      ]
    }
  ]
}