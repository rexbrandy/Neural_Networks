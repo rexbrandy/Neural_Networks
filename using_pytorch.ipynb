{
  "nbformat": 4,
  "nbformat_minor": 0,
  "metadata": {
    "colab": {
      "provenance": [],
      "authorship_tag": "ABX9TyOWS+Xbd/aaXShGmR/g3agn",
      "include_colab_link": true
    },
    "kernelspec": {
      "name": "python3",
      "display_name": "Python 3"
    },
    "language_info": {
      "name": "python"
    }
  },
  "cells": [
    {
      "cell_type": "markdown",
      "metadata": {
        "id": "view-in-github",
        "colab_type": "text"
      },
      "source": [
        "<a href=\"https://colab.research.google.com/github/rexbrandy/Neural_Networks/blob/main/pytorch_linear_regression.ipynb\" target=\"_parent\"><img src=\"https://colab.research.google.com/assets/colab-badge.svg\" alt=\"Open In Colab\"/></a>"
      ]
    },
    {
      "cell_type": "markdown",
      "source": [
        "# Automating manual linear regression using PyTorch\n",
        "\n",
        "Here is the manually calculate linear regression file.\n",
        "\n",
        "This will be changed to use Autograd, Loss computation and PyTorch Models."
      ],
      "metadata": {
        "id": "1-IM-Yoekffj"
      }
    },
    {
      "cell_type": "code",
      "source": [
        "import numpy as np\n",
        "\n",
        "# linear regression function = weights * input\n",
        "# f = w * x\n",
        "\n",
        "# e.g. \n",
        "# f = 2 * x\n",
        "X = np.array([1, 2, 3, 4], dtype=np.float32) # inputs\n",
        "Y = np.array([2, 4, 6, 8], dtype=np.float32) # correct outputs\n",
        "\n",
        "# initialise weights with 0\n",
        "w = 0.0\n",
        "\n",
        "# model prediction\n",
        "def forward(x):\n",
        "    return w * x\n",
        "\n",
        "# loss = Mean Squared Error \n",
        "def loss(y, y_predicted):\n",
        "    return ((y_predicted - y)**2).mean()\n",
        "\n",
        "# gradients\n",
        "# MSE = 1/N * (w*x - y)**2\n",
        "# to calc derivative for MSE function\n",
        "# dJ/dw = 1/N 2x (w*x - y) \n",
        "def gradient(x, y, y_predicted):\n",
        "    return np.dot(2*x, y_predicted - y).mean()\n",
        "\n",
        "print(f'Prediction before train f(5) = {forward(5):.3f}')\n",
        "\n",
        "lr = 0.01\n",
        "n_iters = 10\n",
        "\n",
        "for epoch in range(n_iters):\n",
        "    # prediction - forward pass\n",
        "    y_pred = forward(X)\n",
        "\n",
        "    # loss\n",
        "    l = loss(Y, y_pred)\n",
        "\n",
        "    # gradients\n",
        "    dw = gradient(X, Y, y_pred)\n",
        "\n",
        "    # update weights - backward pass\n",
        "    w -= lr * dw\n",
        "\n",
        "    if epoch % 1 == 0:\n",
        "        print(f'Epoch: {epoch + 1} Weight: {w:.3f} Loss: {l:.8f}')\n",
        "\n",
        "print(f'Prediction after training: f(5) = {forward(5):.3f}')"
      ],
      "metadata": {
        "colab": {
          "base_uri": "https://localhost:8080/"
        },
        "id": "7-lZySO7kHvW",
        "outputId": "1093652f-dc47-476e-ee3d-80c3b041ee6c"
      },
      "execution_count": 9,
      "outputs": [
        {
          "output_type": "stream",
          "name": "stdout",
          "text": [
            "Prediction before train f(5) = 0.000\n",
            "Epoch: 1 Weight: 1.200 Loss: 30.00000000\n",
            "Epoch: 2 Weight: 1.680 Loss: 4.79999924\n",
            "Epoch: 3 Weight: 1.872 Loss: 0.76800019\n",
            "Epoch: 4 Weight: 1.949 Loss: 0.12288000\n",
            "Epoch: 5 Weight: 1.980 Loss: 0.01966083\n",
            "Epoch: 6 Weight: 1.992 Loss: 0.00314574\n",
            "Epoch: 7 Weight: 1.997 Loss: 0.00050331\n",
            "Epoch: 8 Weight: 1.999 Loss: 0.00008053\n",
            "Epoch: 9 Weight: 1.999 Loss: 0.00001288\n",
            "Epoch: 10 Weight: 2.000 Loss: 0.00000206\n",
            "Prediction after training: f(5) = 9.999\n"
          ]
        }
      ]
    },
    {
      "cell_type": "markdown",
      "source": [
        "### Using PyTorch\n",
        "\n",
        "1. PyTorch Model to replace `forward()` function - This is be an instance of `nn.Module` holds weights and handles the forward pass.\n",
        "\n",
        "2. `nn.MSELoss()` to replace `loss()` function - Torch has inbuilt Loss functions.\n",
        "\n",
        "3. `torch.optim` to replace calculating gradients and updating weights\n",
        "\n",
        "4. Training loop\n",
        "  - forward pass: `model(X)`\n",
        "  - backward pass: `loss.backward()`\n",
        "  - update weights: `optimizer.step()`\n"
      ],
      "metadata": {
        "id": "b8_NB_4qlprf"
      }
    },
    {
      "cell_type": "code",
      "execution_count": 8,
      "metadata": {
        "colab": {
          "base_uri": "https://localhost:8080/"
        },
        "id": "MwVM0OsEe1Vh",
        "outputId": "29a8e525-70cd-460c-f3aa-cc8f43c64947"
      },
      "outputs": [
        {
          "output_type": "stream",
          "name": "stdout",
          "text": [
            "Prediction before train f(5) = 0.000\n",
            "Epoch: 1 Weight: 0.300 Loss: 30.00000000\n",
            "Epoch: 11 Weight: 1.665 Loss: 1.16278565\n",
            "Epoch: 21 Weight: 1.934 Loss: 0.04506890\n",
            "Epoch: 31 Weight: 1.987 Loss: 0.00174685\n",
            "Epoch: 41 Weight: 1.997 Loss: 0.00006770\n",
            "Epoch: 51 Weight: 1.999 Loss: 0.00000262\n",
            "Epoch: 61 Weight: 2.000 Loss: 0.00000010\n",
            "Epoch: 71 Weight: 2.000 Loss: 0.00000000\n",
            "Epoch: 81 Weight: 2.000 Loss: 0.00000000\n",
            "Epoch: 91 Weight: 2.000 Loss: 0.00000000\n",
            "Prediction after training: f(5) = 10.000\n"
          ]
        }
      ],
      "source": [
        "# 1. Design model (input, output size, forward pass)\n",
        "# 2. Construct loss and optimizer\n",
        "# 3. Build training loop\n",
        "#    - forward pass: compute prediction\n",
        "#    - backward pass: gradients\n",
        "#    - update weights\n",
        "\n",
        "import torch\n",
        "\n",
        "import torch.nn as nn\n",
        "\n",
        "X = torch.tensor([[1], [2], [3], [4]], dtype=torch.float32) # inputs\n",
        "Y = torch.tensor([[2], [4], [6], [8]], dtype=torch.float32) # correct outputs\n",
        "\n",
        "X_test = torch.tensor([5], dtype=torch.float32) # inputs test\n",
        "\n",
        "# samples = no. of rows | features = no. of columns\n",
        "n_samples, n_features = X.shape\n",
        "\n",
        "input_size = n_features\n",
        "output_size = n_features\n",
        "\n",
        "class LinearRegression(nn.Module):\n",
        "    '''\n",
        "      This class is an example of a custom built model\n",
        "      it is the same as:\n",
        "\n",
        "      model = nn.Linear(input_size, output_size)\n",
        "    '''\n",
        "    def __init__(self, input_size, output_size):\n",
        "        super(LinearRegression, self).__init__()\n",
        "        # define layers\n",
        "        self.lin = nn.Linear(input_size, output_size)\n",
        "\n",
        "    def forward(self, x):\n",
        "        return self.lin(x)\n",
        "\n",
        "lr = 0.01 # Learning rate\n",
        "\n",
        "model = LinearRegression(input_size, output_size)\n",
        "loss = nn.MSELoss()\n",
        "optimizer = torch.optim.SGD(model.parameters(), lr=lr)\n",
        "\n",
        "n_iters = 500 # number of epochs\n",
        "\n",
        "print(f'Prediction before train f(5) = {model(X_test).item():.3f}')\n",
        "\n",
        "for epoch in range(n_iters):\n",
        "    # prediction - forward pass\n",
        "    y_pred = model(X)\n",
        "\n",
        "    # loss\n",
        "    l = loss(Y, y_pred)\n",
        "\n",
        "    # backward pass - calc gradients\n",
        "    l.backward() # dl/dw\n",
        "\n",
        "    # optimization step - go through model parameters and updates weights\n",
        "    optimizer.step()\n",
        "\n",
        "    # zero gradients\n",
        "    optimizer.zero_grad()\n",
        "\n",
        "    if epoch % 50 == 0:\n",
        "        [w, b] = model.parameters()\n",
        "        print(f'Epoch: {epoch + 1} Weight: {w[0][0].item():.3f} Loss: {l:.8f}')\n",
        "\n",
        "print(f'Prediction after training: f(5) = {forward(X_test).item():.3f}')\n"
      ]
    },
    {
      "cell_type": "markdown",
      "source": [],
      "metadata": {
        "id": "VgAT6gLPPtv0"
      }
    },
    {
      "cell_type": "code",
      "source": [
        "# 1. Design model (input, output size, forward pass)\n",
        "# 2. Construct loss and optimizer\n",
        "# 3. Build training loop\n",
        "#    - forward pass: compute prediction\n",
        "#    - backward pass: gradients\n",
        "#    - update weights\n",
        "\n",
        "import torch\n",
        "\n",
        "import torch.nn as nn\n",
        "\n",
        "X = torch.tensor([[1], [2], [3], [4]], dtype=torch.float32) # inputs\n",
        "Y = torch.tensor([[2], [4], [6], [8]], dtype=torch.float32) # correct outputs\n",
        "\n",
        "X_test = torch.tensor([5], dtype=torch.float32) # inputs test\n",
        "\n",
        "# samples = no. of rows | features = no. of columns\n",
        "n_samples, n_features = X.shape\n",
        "\n",
        "input_size = n_features\n",
        "output_size = n_features\n",
        "\n",
        "class LinearRegression(nn.Module):\n",
        "    '''\n",
        "      This class is an example of a custom built model\n",
        "      it is the same as:\n",
        "\n",
        "      model = nn.Linear(input_size, output_size)\n",
        "    '''\n",
        "    def __init__(self, input_size, output_size):\n",
        "        super(LinearRegression, self).__init__()\n",
        "        # define layers\n",
        "        self.lin = nn.Linear(input_size, output_size)\n",
        "\n",
        "    def forward(self, x):\n",
        "        return self.lin(x)\n",
        "\n",
        "lr = 0.01 # Learning rate\n",
        "\n",
        "model = LinearRegression(input_size, output_size)\n",
        "loss = nn.MSELoss()\n",
        "optimizer = torch.optim.SGD(model.parameters(), lr=lr)\n",
        "\n",
        "n_iters = 500 # number of epochs\n",
        "\n",
        "print(f'Prediction before train f(5) = {model(X_test).item():.3f}')\n",
        "\n",
        "for epoch in range(n_iters):\n",
        "    # prediction - forward pass\n",
        "    y_pred = model(X)\n",
        "\n",
        "    # loss\n",
        "    l = loss(Y, y_pred)\n",
        "\n",
        "    # backward pass\n",
        "    # here use the inbuilt tensor .backward() method\n",
        "    # this is autograd\n",
        "    l.backward() # dl/dw\n",
        "\n",
        "    optimizer.step()\n",
        "\n",
        "    # zero gradients\n",
        "    optimizer.zero_grad()\n",
        "\n",
        "    if epoch % 50 == 0:\n",
        "        [w, b] = model.parameters()\n",
        "        print(f'Epoch: {epoch + 1} Weight: {w[0][0].item():.3f} Loss: {l:.8f}')\n",
        "\n",
        "print(f'Prediction after training: f(5) = {forward(X_test).item():.3f}')\n"
      ],
      "metadata": {
        "colab": {
          "base_uri": "https://localhost:8080/"
        },
        "id": "haWofcKvPrUW",
        "outputId": "3c9485b1-87ee-4bb3-a4c4-ad4513032b65"
      },
      "execution_count": 11,
      "outputs": [
        {
          "output_type": "stream",
          "name": "stdout",
          "text": [
            "Prediction before train f(5) = -2.045\n",
            "Epoch: 1 Weight: 0.065 Loss: 46.07556915\n",
            "Epoch: 51 Weight: 1.929 Loss: 0.00734346\n",
            "Epoch: 101 Weight: 1.939 Loss: 0.00544066\n",
            "Epoch: 151 Weight: 1.947 Loss: 0.00403119\n",
            "Epoch: 201 Weight: 1.955 Loss: 0.00298685\n",
            "Epoch: 251 Weight: 1.961 Loss: 0.00221308\n",
            "Epoch: 301 Weight: 1.966 Loss: 0.00163975\n",
            "Epoch: 351 Weight: 1.971 Loss: 0.00121496\n",
            "Epoch: 401 Weight: 1.975 Loss: 0.00090022\n",
            "Epoch: 451 Weight: 1.979 Loss: 0.00066700\n",
            "Prediction after training: f(5) = 9.907\n"
          ]
        }
      ]
    }
  ]
}
