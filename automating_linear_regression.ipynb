{
  "nbformat": 4,
  "nbformat_minor": 0,
  "metadata": {
    "colab": {
      "provenance": [],
      "authorship_tag": "ABX9TyNWJFhpOcWzNyvXju8R8fZz"
    },
    "kernelspec": {
      "name": "python3",
      "display_name": "Python 3"
    },
    "language_info": {
      "name": "python"
    }
  },
  "cells": [
    {
      "cell_type": "markdown",
      "source": [
        "# Automating manual linear regression using PyTorch\n",
        "\n",
        "Here is the manually calculate linear regression file.\n",
        "\n",
        "This will be changed to use Autograd, Loss computation and PyTorch Models."
      ],
      "metadata": {
        "id": "1-IM-Yoekffj"
      }
    },
    {
      "cell_type": "code",
      "source": [
        "import numpy as np\n",
        "\n",
        "# linear regression function = weights * input\n",
        "# f = w * x\n",
        "\n",
        "# e.g. \n",
        "# f = 2 * x\n",
        "X = np.array([1, 2, 3, 4], dtype=np.float32) # inputs\n",
        "Y = np.array([2, 4, 6, 8], dtype=np.float32) # correct outputs\n",
        "\n",
        "# initialise weights with 0\n",
        "w = 0.0\n",
        "\n",
        "# model prediction\n",
        "def forward(x):\n",
        "    return w * x\n",
        "\n",
        "# loss = Mean Squared Error \n",
        "def loss(y, y_predicted):\n",
        "    return ((y_predicted - y)**2).mean()\n",
        "\n",
        "# gradients\n",
        "# MSE = 1/N * (w*x - y)**2\n",
        "# to calc derivative for MSE function\n",
        "# dJ/dw = 1/N 2x (w*x - y) \n",
        "def gradient(x, y, y_predicted):\n",
        "    return np.dot(2*x, y_predicted - y).mean()\n",
        "\n",
        "print(f'Prediction before train f(5) = {forward(5):.3f}')\n",
        "\n",
        "lr = 0.01\n",
        "n_iters = 10\n",
        "\n",
        "for epoch in range(n_iters):\n",
        "    # prediction - forward pass\n",
        "    y_pred = forward(X)\n",
        "\n",
        "    # loss\n",
        "    l = loss(Y, y_pred)\n",
        "\n",
        "    # gradients\n",
        "    dw = gradient(X, Y, y_pred)\n",
        "\n",
        "    # update weights - backward pass\n",
        "    w -= lr * dw\n",
        "\n",
        "    if epoch % 1 == 0:\n",
        "        print(f'Epoch: {epoch + 1} Weight: {w:.3f} Loss: {l:.8f}')\n",
        "\n",
        "print(f'Prediction after training: f(5) = {forward(5):.3f}')"
      ],
      "metadata": {
        "colab": {
          "base_uri": "https://localhost:8080/"
        },
        "id": "7-lZySO7kHvW",
        "outputId": "1093652f-dc47-476e-ee3d-80c3b041ee6c"
      },
      "execution_count": 9,
      "outputs": [
        {
          "output_type": "stream",
          "name": "stdout",
          "text": [
            "Prediction before train f(5) = 0.000\n",
            "Epoch: 1 Weight: 1.200 Loss: 30.00000000\n",
            "Epoch: 2 Weight: 1.680 Loss: 4.79999924\n",
            "Epoch: 3 Weight: 1.872 Loss: 0.76800019\n",
            "Epoch: 4 Weight: 1.949 Loss: 0.12288000\n",
            "Epoch: 5 Weight: 1.980 Loss: 0.01966083\n",
            "Epoch: 6 Weight: 1.992 Loss: 0.00314574\n",
            "Epoch: 7 Weight: 1.997 Loss: 0.00050331\n",
            "Epoch: 8 Weight: 1.999 Loss: 0.00008053\n",
            "Epoch: 9 Weight: 1.999 Loss: 0.00001288\n",
            "Epoch: 10 Weight: 2.000 Loss: 0.00000206\n",
            "Prediction after training: f(5) = 9.999\n"
          ]
        }
      ]
    },
    {
      "cell_type": "markdown",
      "source": [
        "### Adding Autograd\n",
        "\n",
        "Here we use the `backward()` tensor method which automatically stores derative paths and calculates them."
      ],
      "metadata": {
        "id": "b8_NB_4qlprf"
      }
    },
    {
      "cell_type": "code",
      "execution_count": 8,
      "metadata": {
        "colab": {
          "base_uri": "https://localhost:8080/"
        },
        "id": "MwVM0OsEe1Vh",
        "outputId": "29a8e525-70cd-460c-f3aa-cc8f43c64947"
      },
      "outputs": [
        {
          "output_type": "stream",
          "name": "stdout",
          "text": [
            "Prediction before train f(5) = 0.000\n",
            "Epoch: 1 Weight: 0.300 Loss: 30.00000000\n",
            "Epoch: 11 Weight: 1.665 Loss: 1.16278565\n",
            "Epoch: 21 Weight: 1.934 Loss: 0.04506890\n",
            "Epoch: 31 Weight: 1.987 Loss: 0.00174685\n",
            "Epoch: 41 Weight: 1.997 Loss: 0.00006770\n",
            "Epoch: 51 Weight: 1.999 Loss: 0.00000262\n",
            "Epoch: 61 Weight: 2.000 Loss: 0.00000010\n",
            "Epoch: 71 Weight: 2.000 Loss: 0.00000000\n",
            "Epoch: 81 Weight: 2.000 Loss: 0.00000000\n",
            "Epoch: 91 Weight: 2.000 Loss: 0.00000000\n",
            "Prediction after training: f(5) = 10.000\n"
          ]
        }
      ],
      "source": [
        "import torch\n",
        "\n",
        "# linear regression function = weights * input\n",
        "# f = w * x\n",
        "\n",
        "# e.g. \n",
        "# f = 2 * x\n",
        "X = torch.tensor([1, 2, 3, 4], dtype=torch.float32) # inputs\n",
        "Y = torch.tensor([2, 4, 6, 8], dtype=torch.float32) # correct outputs\n",
        "\n",
        "# initialise weights with 0\n",
        "w = torch.tensor(0.0, dtype=torch.float32, requires_grad=True)\n",
        "\n",
        "# model prediction\n",
        "def forward(x):\n",
        "    return w * x\n",
        "\n",
        "# loss = Mean Squared Error \n",
        "def loss(y, y_predicted):\n",
        "    return ((y_predicted - y)**2).mean()\n",
        "\n",
        "print(f'Prediction before train f(5) = {forward(5):.3f}')\n",
        "\n",
        "lr = 0.01\n",
        "n_iters = 100\n",
        "\n",
        "for epoch in range(n_iters):\n",
        "    # prediction - forward pass\n",
        "    y_pred = forward(X)\n",
        "\n",
        "    # loss\n",
        "    l = loss(Y, y_pred)\n",
        "\n",
        "    # backward pass\n",
        "    # here use the inbuilt tensor .backward() method\n",
        "    # this is autograd\n",
        "    l.backward() # dl/dw\n",
        "\n",
        "    # update weights\n",
        "    with torch.no_grad():\n",
        "        w -= lr * w.grad\n",
        "\n",
        "    # zero gradients\n",
        "    w.grad.zero_()\n",
        "\n",
        "    if epoch % 10 == 0:\n",
        "        print(f'Epoch: {epoch + 1} Weight: {w:.3f} Loss: {l:.8f}')\n",
        "\n",
        "print(f'Prediction after training: f(5) = {forward(5):.3f}')\n"
      ]
    }
  ]
}