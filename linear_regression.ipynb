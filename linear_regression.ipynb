{
  "nbformat": 4,
  "nbformat_minor": 0,
  "metadata": {
    "colab": {
      "provenance": [],
      "authorship_tag": "ABX9TyMyRQtdqTVjOvLPlvvYRrsK"
    },
    "kernelspec": {
      "name": "python3",
      "display_name": "Python 3"
    },
    "language_info": {
      "name": "python"
    }
  },
  "cells": [
    {
      "cell_type": "code",
      "execution_count": 6,
      "metadata": {
        "colab": {
          "base_uri": "https://localhost:8080/",
          "height": 444
        },
        "id": "7WiDf92ti5Et",
        "outputId": "e7d453f4-8616-4612-ccd8-3de8cfc04d82"
      },
      "outputs": [
        {
          "output_type": "stream",
          "name": "stdout",
          "text": [
            "epoch: 10, loss: 4332.5479\n",
            "epoch: 20, loss: 3234.8281\n",
            "epoch: 30, loss: 2440.1641\n",
            "epoch: 40, loss: 1864.2965\n",
            "epoch: 50, loss: 1446.5863\n",
            "epoch: 60, loss: 1143.3293\n",
            "epoch: 70, loss: 922.9869\n",
            "epoch: 80, loss: 762.7693\n",
            "epoch: 90, loss: 646.1901\n",
            "epoch: 100, loss: 561.3101\n"
          ]
        },
        {
          "output_type": "display_data",
          "data": {
            "text/plain": [
              "<Figure size 432x288 with 1 Axes>"
            ],
            "image/png": "[encoded data removed]"
          },
          "metadata": {
            "needs_background": "light"
          }
        }
      ],
      "source": [
        "import torch\n",
        "import torch.nn as nn\n",
        "import numpy as np\n",
        "from sklearn import datasets\n",
        "import matplotlib.pyplot as plt\n",
        "\n",
        "X_numpy, y_numpy = datasets.make_regression(n_samples=100, n_features=1, noise=20, random_state=1)\n",
        "\n",
        "X = torch.from_numpy(X_numpy.astype(np.float32))\n",
        "y = torch.from_numpy(y_numpy.astype(np.float32))\n",
        "y = y.view(y.shape[0], 1) # reshape tensor\n",
        "\n",
        "n_samples, n_features = X.shape\n",
        "\n",
        "input_size = n_features\n",
        "output_size = 1\n",
        "\n",
        "# Define model\n",
        "model = nn.Linear(input_size, output_size)\n",
        "\n",
        "# Define loss\n",
        "criterion = nn.MSELoss()\n",
        "\n",
        "# Define optim\n",
        "lr = 0.01\n",
        "optimizer = torch.optim.SGD(model.parameters(), lr=lr)\n",
        "\n",
        "n_iters = 100\n",
        "\n",
        "for epoch in range(n_iters):\n",
        "    #forward pass and loss\n",
        "    y_prediction = model(X)\n",
        "    loss = criterion(y_prediction, y)\n",
        "\n",
        "    # backward pass\n",
        "    loss.backward()\n",
        "\n",
        "    # update weights\n",
        "    optimizer.step()\n",
        "\n",
        "    optimizer.zero_grad()\n",
        "\n",
        "    if (epoch+1) % 10 == 0:\n",
        "        print(f'epoch: {epoch+1}, loss: {loss.item():.4f}')\n",
        "\n",
        "predicted = model(X).detach().numpy() # detach removes this from computation graph. generates new tensor with requires_grad=False\n",
        "plt.plot(X_numpy, y_numpy, 'ro')\n",
        "plt.plot(X_numpy, predicted, 'b')\n",
        "plt.show()"
      ]
    }
  ]
}