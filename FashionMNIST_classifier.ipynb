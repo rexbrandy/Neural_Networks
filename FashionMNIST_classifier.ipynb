{
  "nbformat": 4,
  "nbformat_minor": 0,
  "metadata": {
    "colab": {
      "provenance": [],
      "authorship_tag": "ABX9TyN+IyoMiJolqQtWnXEBjrQB",
      "include_colab_link": true
    },
    "kernelspec": {
      "name": "python3",
      "display_name": "Python 3"
    },
    "language_info": {
      "name": "python"
    },
    "accelerator": "GPU",
    "gpuClass": "standard"
  },
  "cells": [
    {
      "cell_type": "markdown",
      "metadata": {
        "id": "view-in-github",
        "colab_type": "text"
      },
      "source": [
        "<a href=\"https://colab.research.google.com/github/rexbrandy/Neural_Networks/blob/main/FashionMNIST_classifier.ipynb\" target=\"_parent\"><img src=\"https://colab.research.google.com/assets/colab-badge.svg\" alt=\"Open In Colab\"/></a>"
      ]
    },
    {
      "cell_type": "markdown",
      "source": [
        "# Fashion MNIST Classifier"
      ],
      "metadata": {
        "id": "hH9mxM96fk-y"
      }
    },
    {
      "cell_type": "markdown",
      "source": [
        "### Import everything and define train and test sets/loaders"
      ],
      "metadata": {
        "id": "qUz6yutfXDl5"
      }
    },
    {
      "cell_type": "code",
      "execution_count": 12,
      "metadata": {
        "colab": {
          "base_uri": "https://localhost:8080/",
          "height": 254
        },
        "id": "8Mj8w7wDOWDH",
        "outputId": "0359f144-a781-4dad-ac20-5e6f225b3864"
      },
      "outputs": [
        {
          "output_type": "display_data",
          "data": {
            "text/plain": [
              "<Figure size 1152x432 with 10 Axes>"
            ],
            "image/png": "[encoded data removed]"
          },
          "metadata": {
            "needs_background": "light"
          }
        }
      ],
      "source": [
        "import matplotlib.pyplot as plt\n",
        "\n",
        "import numpy as np\n",
        "\n",
        "import torch\n",
        "import torch.nn as nn\n",
        "import torch.nn.functional as F\n",
        "import torch.optim as optim\n",
        "\n",
        "import torchvision\n",
        "import torchvision.transforms as transforms\n",
        "import torchvision.datasets as datasets\n",
        "\n",
        "\n",
        "assert torch.cuda.is_available(), \"GPU is not enabled\"\n",
        "\n",
        "# use gpu if available\n",
        "device = torch.device(\"cuda:0\" if torch.cuda.is_available() else \"cpu\")\n",
        "\n",
        "# Declare the transform\n",
        "transform = transforms.Compose(\n",
        "    [transforms.ToTensor(), # Transform image to tensor\n",
        "     transforms.Normalize((0.5,),(0.5,))] # Normalize data\n",
        ")\n",
        "\n",
        "# Declare training and testing sets\n",
        "train_set = datasets.FashionMNIST('data',\n",
        "  download=True,\n",
        "  train=True,\n",
        "  transform=transform\n",
        ")\n",
        "test_set = datasets.FashionMNIST('data',\n",
        "  download=True,\n",
        "  train=False,\n",
        "  transform=transform\n",
        ")\n",
        "\n",
        "# Declare dataloaders\n",
        "train_loader = torch.utils.data.DataLoader(train_set, batch_size=64,\n",
        "                                           shuffle=True, num_workers=1)\n",
        "\n",
        "test_loader = torch.utils.data.DataLoader(test_set, batch_size=64,\n",
        "                                           shuffle=True, num_workers=1)\n",
        "\n",
        "# constant for classes\n",
        "classes = ('T-shirt/top', 'Trouser', 'Pullover', 'Dress', 'Coat',\n",
        "           'Sandal', 'Shirt', 'Sneaker', 'Bag', 'Ankle Boot')\n",
        "\n",
        "\n",
        "# Here we can see the images\n",
        "plt.figure(figsize=(16, 6))\n",
        "for i in range(10):\n",
        "    plt.subplot(2, 5, i + 1)\n",
        "    image = train_set.data[i,...]\n",
        "    plt.imshow(image.squeeze().numpy(), cmap=\"gray\")\n",
        "    plt.axis('off');\n",
        "\n",
        "  "
      ]
    },
    {
      "cell_type": "markdown",
      "source": [
        "### Define our classifier"
      ],
      "metadata": {
        "id": "tgvjJqWpW-7s"
      }
    },
    {
      "cell_type": "code",
      "source": [
        "import torch.nn as nn\n",
        "import torch.nn.functional as F\n",
        "\n",
        "class Classifier(nn.Module):\n",
        "    def __init__(self):\n",
        "        super().__init__()\n",
        "        self.fc1 = nn.Linear(784, 256) # Input layer should be 784 because images are 28x28 - one for every feature (pixel)\n",
        "        self.fc2 = nn.Linear(256, 128)\n",
        "        self.fc3 = nn.Linear(128, 64)\n",
        "        self.fc4 = nn.Linear(64, 10) # we have 10 classes so output should be one of those\n",
        "\n",
        "    def forward(self, x):\n",
        "        # make sure input is flat\n",
        "        x = x.view(x.shape[0], -1)\n",
        "\n",
        "        # for every layer we should activate output with ReLU\n",
        "        x = F.relu(self.fc1(x)) \n",
        "        x = F.relu(self.fc2(x))\n",
        "        x = F.relu(self.fc3(x))\n",
        "        x = F.log_softmax(self.fc4(x), dim=1)\n",
        "\n",
        "        return x\n",
        "        "
      ],
      "metadata": {
        "id": "PUNoNgoaXMxo"
      },
      "execution_count": 14,
      "outputs": []
    },
    {
      "cell_type": "markdown",
      "source": [
        "### Define loss function and optimizer "
      ],
      "metadata": {
        "id": "CNpZZ5WOdPui"
      }
    },
    {
      "cell_type": "code",
      "source": [
        "import torch.optim as optim\n",
        "\n",
        "# Create model instance\n",
        "model = Classifier()\n",
        "model.cuda()# Move to GPU\n",
        "\n",
        "# Define metric for loss function\n",
        "criterion = nn.NLLLoss()\n",
        "\n",
        "# Select optimizer and pass learning rate\n",
        "optimizer = optim.SGD(model.parameters(), lr=0.01)\n",
        "\n",
        "# Here we change the initial weights+bias in each layer\n",
        "initialize_parameters(model)"
      ],
      "metadata": {
        "colab": {
          "base_uri": "https://localhost:8080/"
        },
        "id": "bGWh8j1mdVzs",
        "outputId": "c83d11a5-e879-40e5-d0c2-a65918e9179a"
      },
      "execution_count": 24,
      "outputs": [
        {
          "output_type": "stream",
          "name": "stdout",
          "text": [
            "fc1.weight Parameter containing:\n",
            "tensor([[-0.0004, -0.0183,  0.0160,  ..., -0.0060,  0.0301, -0.0212],\n",
            "        [ 0.0347,  0.0110,  0.0112,  ...,  0.0291, -0.0186,  0.0065],\n",
            "        [ 0.0185, -0.0173, -0.0162,  ..., -0.0004, -0.0190, -0.0167],\n",
            "        ...,\n",
            "        [-0.0195, -0.0226,  0.0213,  ...,  0.0273, -0.0343,  0.0177],\n",
            "        [-0.0233,  0.0010, -0.0072,  ...,  0.0046, -0.0339, -0.0240],\n",
            "        [-0.0090, -0.0145,  0.0077,  ..., -0.0048, -0.0250, -0.0251]],\n",
            "       device='cuda:0', requires_grad=True)\n",
            "fc1.bias Parameter containing:\n",
            "tensor([-8.5507e-03,  3.7329e-03, -2.1527e-02, -3.0907e-02, -1.8196e-02,\n",
            "        -7.6258e-03,  2.3123e-02, -1.1583e-02,  3.0216e-02,  1.8245e-02,\n",
            "         2.1883e-02,  1.9428e-02,  2.7239e-02, -1.1056e-02,  3.2945e-02,\n",
            "         2.8459e-02,  8.6563e-03, -2.5775e-02, -2.5715e-02, -2.5804e-02,\n",
            "         1.9090e-02,  2.7990e-02, -1.8090e-02, -2.2562e-02,  1.3577e-02,\n",
            "         2.0902e-02,  5.4957e-03,  1.1067e-02,  7.4495e-03,  3.9663e-03,\n",
            "        -1.3683e-02, -1.8531e-02,  7.1305e-03, -7.3177e-03,  8.6992e-03,\n",
            "        -8.7054e-03, -3.2460e-02,  2.2988e-02, -1.8211e-02,  2.9559e-02,\n",
            "         4.6395e-03,  1.3135e-02, -3.4439e-02, -2.2972e-02, -1.4416e-02,\n",
            "         3.3356e-02,  3.5275e-02, -1.1454e-02,  2.7685e-02, -1.8193e-03,\n",
            "         4.9323e-03,  2.7777e-02,  2.3384e-03,  8.1626e-03,  1.0096e-02,\n",
            "         1.1578e-02, -1.9334e-02, -2.1130e-02,  1.0277e-02,  1.3475e-03,\n",
            "         1.3849e-02,  2.9213e-02, -3.1175e-02, -2.7726e-02, -1.5259e-02,\n",
            "        -2.8605e-02, -2.7651e-02, -3.1908e-02,  3.2930e-02,  2.9666e-02,\n",
            "         1.1766e-02, -2.7298e-02, -4.1586e-03,  4.8479e-04, -3.4473e-02,\n",
            "        -1.5972e-03, -7.7840e-03,  2.5129e-02, -2.7344e-02,  3.1845e-02,\n",
            "        -2.3176e-02,  1.4570e-02,  3.5206e-02, -2.4523e-02, -2.1728e-02,\n",
            "        -4.0264e-03,  1.7898e-02, -1.0417e-04,  3.5485e-02, -3.1050e-02,\n",
            "         2.7274e-02,  2.7925e-02, -3.2167e-02, -7.4734e-03, -3.4551e-02,\n",
            "        -3.5178e-02, -1.3837e-02,  2.2004e-02,  6.4034e-03,  2.1558e-02,\n",
            "         2.4664e-02, -1.4242e-02,  9.8290e-03, -2.1382e-03,  2.1197e-02,\n",
            "         4.0725e-03, -1.1836e-02,  2.3728e-02,  1.6517e-02, -2.2995e-02,\n",
            "        -9.8869e-03,  1.7072e-02,  1.5482e-02,  3.2731e-02,  1.7107e-02,\n",
            "         2.6828e-02,  4.5392e-03,  1.5357e-02, -1.8449e-02,  2.9030e-02,\n",
            "        -2.0994e-02,  3.5235e-02, -3.2020e-03, -2.9856e-02, -3.3771e-02,\n",
            "        -2.6334e-02,  3.3982e-02,  1.6119e-03, -2.7321e-02,  8.6872e-03,\n",
            "         1.5776e-02, -3.0506e-02, -1.4014e-02,  4.2705e-04, -2.0704e-02,\n",
            "         2.9871e-02,  2.7212e-02,  5.3283e-03,  3.2834e-02, -9.4520e-03,\n",
            "        -2.0524e-02, -3.1698e-03,  1.3403e-02, -1.9291e-02,  9.6434e-03,\n",
            "        -9.9258e-04,  2.4697e-02, -3.4212e-02, -3.3149e-03,  1.5442e-02,\n",
            "        -3.3237e-02,  1.7200e-06,  1.6641e-03,  1.0335e-02,  2.1797e-02,\n",
            "         1.0467e-02,  1.3718e-02, -2.4453e-02,  1.7681e-02,  1.8859e-02,\n",
            "         3.4629e-02, -1.6467e-02,  8.2906e-03,  1.9237e-02, -3.0181e-02,\n",
            "         1.8911e-02,  7.0254e-03, -1.5101e-02, -2.4221e-02, -2.5261e-02,\n",
            "        -1.9028e-02, -6.1797e-03,  3.8921e-04, -2.0064e-02,  2.4385e-02,\n",
            "        -2.1545e-02,  6.9841e-03, -3.7963e-03, -5.8964e-03,  2.9386e-02,\n",
            "         4.9424e-03,  2.7099e-02, -1.1717e-02, -1.3911e-02,  9.4344e-03,\n",
            "        -2.6715e-02, -2.4339e-02, -1.3268e-02,  5.6493e-03, -1.3207e-02,\n",
            "        -1.1307e-02,  2.3502e-02,  2.4822e-02,  2.4894e-02,  2.6523e-02,\n",
            "        -1.8177e-03, -1.3109e-02, -1.5669e-02,  2.3527e-02,  1.9643e-02,\n",
            "        -1.3671e-02,  3.4252e-03,  3.4412e-02,  1.3445e-03, -1.1418e-02,\n",
            "         2.3043e-02, -1.7834e-02, -3.2056e-02, -1.0653e-02,  1.2597e-02,\n",
            "        -1.6960e-02, -3.5684e-02, -1.1939e-02, -3.0246e-02, -1.7824e-03,\n",
            "        -2.3607e-02, -2.5535e-02, -1.8051e-02,  1.5210e-02, -5.6838e-03,\n",
            "        -1.9387e-03, -3.5694e-02, -2.8149e-02,  1.0926e-02, -1.0974e-02,\n",
            "         2.6672e-02, -1.6246e-02, -6.2350e-03, -2.0274e-02, -2.3299e-02,\n",
            "         1.9946e-02,  2.4358e-02,  1.7049e-02,  1.6691e-03, -3.0297e-02,\n",
            "         1.8389e-02, -2.7229e-03, -3.3214e-02,  9.6955e-03, -3.7534e-03,\n",
            "        -2.0397e-03, -2.6993e-04, -8.0278e-03, -1.8977e-02, -3.3929e-02,\n",
            "         5.0954e-03,  1.1226e-02, -2.3463e-02,  1.8467e-02, -8.3264e-03,\n",
            "        -1.5104e-02, -2.8891e-02, -3.0126e-02,  1.1807e-02, -1.7034e-02,\n",
            "         1.4279e-03], device='cuda:0', requires_grad=True)\n",
            "fc2.weight Parameter containing:\n",
            "tensor([[ 0.0215, -0.0494, -0.0231,  ..., -0.0611, -0.0093, -0.0433],\n",
            "        [ 0.0188, -0.0582,  0.0267,  ..., -0.0094,  0.0080, -0.0558],\n",
            "        [-0.0517,  0.0423, -0.0539,  ..., -0.0494,  0.0581, -0.0085],\n",
            "        ...,\n",
            "        [ 0.0486,  0.0194,  0.0347,  ..., -0.0419,  0.0421,  0.0026],\n",
            "        [ 0.0513,  0.0137,  0.0430,  ..., -0.0337, -0.0120,  0.0523],\n",
            "        [ 0.0621, -0.0163,  0.0220,  ..., -0.0378, -0.0417, -0.0132]],\n",
            "       device='cuda:0', requires_grad=True)\n",
            "fc2.bias Parameter containing:\n",
            "tensor([ 0.0046,  0.0107, -0.0443, -0.0607, -0.0054,  0.0257, -0.0480,  0.0399,\n",
            "         0.0393,  0.0416, -0.0620, -0.0392,  0.0177, -0.0077, -0.0583,  0.0602,\n",
            "         0.0612,  0.0612,  0.0311,  0.0523,  0.0261, -0.0416, -0.0518, -0.0005,\n",
            "        -0.0058, -0.0181,  0.0360,  0.0588,  0.0317, -0.0262,  0.0189,  0.0077,\n",
            "         0.0068,  0.0085,  0.0205,  0.0132,  0.0312, -0.0527,  0.0545,  0.0553,\n",
            "        -0.0526,  0.0182, -0.0053,  0.0101,  0.0084,  0.0132,  0.0092, -0.0144,\n",
            "        -0.0304,  0.0225,  0.0425, -0.0079,  0.0404,  0.0346,  0.0158,  0.0022,\n",
            "         0.0042, -0.0483,  0.0536, -0.0113,  0.0396,  0.0293, -0.0247, -0.0540,\n",
            "        -0.0583, -0.0241,  0.0252, -0.0430, -0.0348, -0.0414, -0.0233,  0.0153,\n",
            "        -0.0503,  0.0350, -0.0038, -0.0236,  0.0076, -0.0295, -0.0499, -0.0526,\n",
            "        -0.0030,  0.0307, -0.0092,  0.0450,  0.0531,  0.0116, -0.0516,  0.0450,\n",
            "         0.0313,  0.0218,  0.0465, -0.0268,  0.0108, -0.0092, -0.0498,  0.0410,\n",
            "         0.0179, -0.0217, -0.0318,  0.0432, -0.0332,  0.0422, -0.0190,  0.0274,\n",
            "         0.0005,  0.0060,  0.0441,  0.0472,  0.0527, -0.0550, -0.0205, -0.0434,\n",
            "         0.0321, -0.0056, -0.0187,  0.0096, -0.0535,  0.0056, -0.0213,  0.0339,\n",
            "         0.0110,  0.0623,  0.0435, -0.0154, -0.0055,  0.0232,  0.0102,  0.0211],\n",
            "       device='cuda:0', requires_grad=True)\n",
            "fc3.weight Parameter containing:\n",
            "tensor([[ 0.0317, -0.0287, -0.0683,  ...,  0.0254, -0.0095, -0.0649],\n",
            "        [-0.0650, -0.0510,  0.0454,  ..., -0.0312,  0.0852,  0.0216],\n",
            "        [-0.0475, -0.0067, -0.0302,  ...,  0.0859, -0.0559, -0.0410],\n",
            "        ...,\n",
            "        [-0.0744, -0.0059, -0.0726,  ...,  0.0826,  0.0530, -0.0261],\n",
            "        [ 0.0152,  0.0784,  0.0430,  ..., -0.0295,  0.0573,  0.0075],\n",
            "        [ 0.0535, -0.0512, -0.0640,  ...,  0.0580, -0.0439, -0.0348]],\n",
            "       device='cuda:0', requires_grad=True)\n",
            "fc3.bias Parameter containing:\n",
            "tensor([-0.0581, -0.0853, -0.0472,  0.0661,  0.0321, -0.0318, -0.0879,  0.0330,\n",
            "        -0.0656, -0.0355,  0.0216,  0.0609,  0.0782,  0.0686,  0.0036,  0.0851,\n",
            "         0.0403,  0.0637,  0.0489,  0.0530,  0.0393,  0.0733, -0.0445,  0.0049,\n",
            "         0.0512, -0.0211,  0.0819,  0.0029, -0.0769, -0.0508,  0.0673,  0.0466,\n",
            "        -0.0819,  0.0008,  0.0331, -0.0678,  0.0156, -0.0714, -0.0160, -0.0815,\n",
            "        -0.0301, -0.0520,  0.0296, -0.0772,  0.0459, -0.0689, -0.0189, -0.0266,\n",
            "        -0.0829, -0.0205, -0.0604, -0.0480,  0.0476, -0.0607, -0.0615,  0.0003,\n",
            "        -0.0211,  0.0187, -0.0787,  0.0700, -0.0675,  0.0198,  0.0734, -0.0036],\n",
            "       device='cuda:0', requires_grad=True)\n",
            "fc4.weight Parameter containing:\n",
            "tensor([[-0.0860, -0.1145, -0.0680, -0.1224, -0.0697,  0.1237, -0.0300, -0.0565,\n",
            "         -0.0238,  0.1178, -0.0869, -0.0022,  0.0279,  0.0445,  0.0452, -0.0574,\n",
            "         -0.0325,  0.0848, -0.1048,  0.0402,  0.0947,  0.0954,  0.0218,  0.1122,\n",
            "          0.0375,  0.0302, -0.0863, -0.1163, -0.0740,  0.1244,  0.0758,  0.0400,\n",
            "         -0.0338,  0.1242, -0.0841, -0.0354,  0.1223, -0.0631,  0.0148,  0.0881,\n",
            "          0.0415,  0.0089,  0.0680, -0.0157,  0.0091, -0.0022,  0.0374, -0.0468,\n",
            "          0.1083, -0.1124,  0.0795, -0.0318,  0.0971, -0.0584,  0.0167,  0.0840,\n",
            "          0.1017, -0.0973, -0.1000,  0.0305,  0.0702, -0.0056,  0.0580,  0.0890],\n",
            "        [-0.0245, -0.0636, -0.0243, -0.0373, -0.0276,  0.1056, -0.0479,  0.0055,\n",
            "          0.1190,  0.1100,  0.0820,  0.1182,  0.0581,  0.1018,  0.0861,  0.0398,\n",
            "         -0.0755,  0.0432, -0.0179,  0.1168, -0.1219,  0.0261,  0.1053, -0.0883,\n",
            "          0.1059,  0.1209, -0.1032,  0.0652, -0.0923, -0.0639, -0.0533, -0.0957,\n",
            "         -0.0584, -0.0960, -0.0567,  0.0805,  0.0794, -0.0195,  0.0225, -0.1156,\n",
            "          0.0609,  0.1206,  0.0801, -0.1188,  0.1149,  0.1049, -0.0177, -0.0498,\n",
            "         -0.0764,  0.0807,  0.0687,  0.0436, -0.0422,  0.0707,  0.1113,  0.0092,\n",
            "          0.1139,  0.1067, -0.0353,  0.0064, -0.0481,  0.0813,  0.0021,  0.0789],\n",
            "        [ 0.0785,  0.1066, -0.0147, -0.0653, -0.0547, -0.0435, -0.0886, -0.1175,\n",
            "         -0.0296,  0.0452,  0.0088, -0.1174, -0.0056, -0.0234,  0.0785, -0.0242,\n",
            "         -0.0410,  0.0745, -0.1062,  0.0839,  0.0950, -0.0508, -0.0776,  0.1068,\n",
            "         -0.0891,  0.0250, -0.1036,  0.0336, -0.0040, -0.0709, -0.0954,  0.0980,\n",
            "         -0.0158,  0.0256, -0.0383,  0.0973, -0.0019,  0.0350,  0.0108,  0.0627,\n",
            "          0.1005, -0.0406,  0.0359,  0.0318,  0.0907, -0.1119, -0.0046, -0.0386,\n",
            "          0.0490,  0.0491,  0.1103,  0.0672, -0.0612, -0.0058, -0.0698, -0.0976,\n",
            "         -0.0888,  0.0441,  0.1000, -0.0749,  0.0765, -0.0009, -0.0932,  0.0110],\n",
            "        [ 0.0652,  0.1148, -0.0184, -0.0732,  0.0478, -0.0392, -0.0458, -0.0332,\n",
            "         -0.0140,  0.0813, -0.0323,  0.0233,  0.0921,  0.0586,  0.0638,  0.0347,\n",
            "         -0.1123, -0.1019,  0.1191, -0.0221, -0.0842, -0.0015,  0.1026,  0.0036,\n",
            "          0.1234, -0.1172, -0.0846,  0.0730, -0.0604, -0.0926, -0.1097,  0.0356,\n",
            "          0.0336, -0.0730,  0.1115, -0.0572, -0.0690, -0.0588,  0.0945,  0.0088,\n",
            "         -0.0673, -0.0114, -0.0071,  0.0353,  0.1192, -0.0916, -0.0620,  0.1063,\n",
            "          0.0792, -0.0379,  0.0150, -0.1079, -0.1000,  0.0699,  0.0875, -0.0214,\n",
            "          0.0389, -0.1016, -0.1058, -0.0325, -0.0126, -0.0249, -0.1130,  0.0371],\n",
            "        [-0.0471,  0.1110, -0.0156, -0.0043, -0.1076, -0.0682,  0.1216, -0.1107,\n",
            "         -0.0477, -0.0968,  0.0967,  0.0847,  0.0883, -0.0154, -0.1205,  0.0926,\n",
            "         -0.0092, -0.0451, -0.0751,  0.0975,  0.0041,  0.0966, -0.0174,  0.0812,\n",
            "         -0.1193,  0.0988, -0.0242, -0.1248,  0.0577,  0.0960, -0.0454,  0.0815,\n",
            "          0.0013,  0.0881,  0.0325, -0.0384, -0.0623, -0.0936,  0.0577,  0.0396,\n",
            "         -0.0969, -0.0098, -0.1027,  0.0571,  0.0039,  0.0732, -0.0099, -0.0422,\n",
            "          0.0961,  0.1140, -0.1022,  0.0898,  0.0646,  0.0974, -0.1119, -0.0784,\n",
            "          0.0509,  0.0261, -0.0335, -0.0063,  0.0223,  0.0197,  0.0768, -0.0062],\n",
            "        [ 0.1063, -0.0326,  0.0959,  0.1125, -0.0697,  0.0331, -0.1128,  0.1155,\n",
            "         -0.1169, -0.0287,  0.0785,  0.0940, -0.0618,  0.0432, -0.0483,  0.1214,\n",
            "         -0.1242,  0.0758, -0.0971,  0.0809, -0.0024, -0.0324,  0.0425, -0.0665,\n",
            "         -0.0094,  0.0410,  0.0646,  0.0641,  0.0259, -0.0691,  0.0620,  0.0252,\n",
            "         -0.0428, -0.0105,  0.1047, -0.0859,  0.0437, -0.0654, -0.0990,  0.0637,\n",
            "         -0.0030, -0.0731,  0.0673,  0.1105,  0.1174,  0.0567,  0.1168, -0.1212,\n",
            "          0.0273,  0.0747,  0.0994, -0.1248,  0.1113,  0.0980,  0.1204,  0.1190,\n",
            "          0.0449,  0.0828,  0.1105,  0.0237,  0.0689, -0.0237, -0.0051, -0.0991],\n",
            "        [ 0.0608,  0.0177,  0.1101, -0.0397,  0.0450,  0.0653,  0.0665, -0.0444,\n",
            "          0.1098, -0.0817, -0.0310,  0.0144,  0.0238, -0.1186,  0.0010, -0.0534,\n",
            "          0.0633, -0.0548,  0.0038, -0.0760, -0.0939,  0.0355, -0.1239,  0.0060,\n",
            "          0.0315, -0.0980,  0.0134, -0.0623, -0.0870, -0.0772,  0.0477,  0.0018,\n",
            "          0.0636, -0.0328, -0.0829,  0.0400,  0.0565,  0.0558, -0.0770,  0.0059,\n",
            "         -0.0859, -0.0659,  0.0919,  0.1001,  0.1193, -0.0401, -0.1130, -0.0161,\n",
            "         -0.0068,  0.0023, -0.0608, -0.0961,  0.0412,  0.0517,  0.0148, -0.0554,\n",
            "         -0.1063, -0.0518, -0.0486,  0.0165, -0.1168,  0.0212, -0.0845,  0.0688],\n",
            "        [ 0.0168,  0.0711,  0.1121, -0.0990,  0.0261, -0.0681,  0.0907,  0.0994,\n",
            "          0.0684, -0.0310,  0.0463, -0.0075,  0.0397,  0.0102,  0.0586,  0.0172,\n",
            "          0.0536, -0.0874, -0.0687,  0.0659, -0.1220,  0.0742,  0.0190,  0.0924,\n",
            "         -0.0985, -0.0999,  0.0196,  0.0386, -0.0167,  0.0861,  0.0366, -0.0383,\n",
            "         -0.0225,  0.0762,  0.0237, -0.0211,  0.0181,  0.0458, -0.0475,  0.0912,\n",
            "          0.1093,  0.0993,  0.1036,  0.1002,  0.0272, -0.0180,  0.1195, -0.0955,\n",
            "          0.0768,  0.0475, -0.0050,  0.0869, -0.0438,  0.0809, -0.1230, -0.0520,\n",
            "          0.0344,  0.0386, -0.0833, -0.0364,  0.0154, -0.1025, -0.0930, -0.0471],\n",
            "        [-0.0404, -0.1074, -0.0661, -0.0934, -0.0375,  0.0386, -0.0380,  0.0642,\n",
            "          0.0608, -0.0230,  0.0680,  0.0672, -0.1019,  0.0324, -0.0190, -0.0464,\n",
            "          0.0549, -0.0694, -0.1080, -0.0957,  0.0090,  0.0032,  0.0558,  0.0973,\n",
            "          0.0466, -0.0211,  0.1136, -0.0598, -0.0399, -0.0647,  0.1229,  0.1124,\n",
            "         -0.0171,  0.0545, -0.0574, -0.1232, -0.1132,  0.0017,  0.1161,  0.0711,\n",
            "          0.0816,  0.0827, -0.0154, -0.0482, -0.0224, -0.0532,  0.0957,  0.0211,\n",
            "          0.1148,  0.0665,  0.0431, -0.1122, -0.0207,  0.0356, -0.0630,  0.0146,\n",
            "         -0.1066, -0.0977,  0.0992, -0.0366,  0.0334, -0.0975,  0.0266, -0.0092],\n",
            "        [ 0.0061,  0.0648,  0.0268, -0.0636,  0.0381, -0.1036, -0.0898, -0.0748,\n",
            "          0.0448,  0.0104, -0.0178, -0.1214, -0.0031, -0.0078, -0.0313,  0.0344,\n",
            "          0.1182, -0.0878,  0.1159, -0.1212, -0.0496,  0.0130, -0.0585, -0.0502,\n",
            "         -0.0597, -0.0016, -0.0864,  0.0386, -0.0355,  0.0981, -0.0669,  0.0524,\n",
            "         -0.0459,  0.1084, -0.0650,  0.0635,  0.0334,  0.0672, -0.0079,  0.0263,\n",
            "         -0.0568,  0.0199, -0.0096, -0.0832, -0.0786,  0.0097, -0.0214,  0.0640,\n",
            "         -0.0976,  0.1012, -0.0086, -0.1213, -0.1083, -0.0512, -0.1122,  0.0550,\n",
            "          0.0051, -0.0813,  0.0491, -0.0074,  0.1190,  0.0267, -0.0284, -0.0367]],\n",
            "       device='cuda:0', requires_grad=True)\n",
            "fc4.bias Parameter containing:\n",
            "tensor([ 0.0694,  0.1000,  0.0198, -0.0376,  0.0311, -0.0143,  0.1058, -0.0044,\n",
            "         0.0139, -0.0271], device='cuda:0', requires_grad=True)\n"
          ]
        }
      ]
    },
    {
      "cell_type": "markdown",
      "source": [
        "### Test gradient computation"
      ],
      "metadata": {
        "id": "J32gbalhfdZr"
      }
    },
    {
      "cell_type": "code",
      "source": [
        "images, labels = next(iter(train_loader))\n",
        "log_ps = model(images.cuda())\n",
        "loss = criterion(log_ps, labels.cuda())\n",
        "\n",
        "loss.backward()\n",
        "\n",
        "print(model.fc2.weight.grad)"
      ],
      "metadata": {
        "id": "aweTw9kgfxMV"
      },
      "execution_count": null,
      "outputs": []
    },
    {
      "cell_type": "markdown",
      "source": [
        "init params"
      ],
      "metadata": {
        "id": "Ckd9E3aF9JTO"
      }
    },
    {
      "cell_type": "code",
      "source": [
        "for name, w in model.named_parameters():\n",
        "        print(name, w)"
      ],
      "metadata": {
        "id": "ZLWqtRtC-daU"
      },
      "execution_count": null,
      "outputs": []
    },
    {
      "cell_type": "code",
      "source": [
        "def initialize_parameters(model):\n",
        "    for name, w in model.named_parameters():\n",
        "        print(name, w)\n",
        "        if \"weight\" in name:\n",
        "            nn.init.eye_(w)\n",
        "        \n",
        "        if \"bias\" in name:\n",
        "            nn.init.zeros_(w)   "
      ],
      "metadata": {
        "id": "qXZt-b_i9Fxr"
      },
      "execution_count": 22,
      "outputs": []
    },
    {
      "cell_type": "markdown",
      "source": [
        "### Training Loop\n"
      ],
      "metadata": {
        "id": "5u0g3FZ0x7i2"
      }
    },
    {
      "cell_type": "code",
      "source": [
        "epochs = 10\n",
        "for e in range(epochs):\n",
        "    # Training\n",
        "    total_loss = 0\n",
        "    \n",
        "    model.train() # Turn on training mode\n",
        "\n",
        "    for images, labesl in train_loader:\n",
        "        optimizer.zero_grad() # Zero gradients to start off loop\n",
        "\n",
        "        # Forward pass\n",
        "        output = model(images.cuda())\n",
        "        loss = criterion(output, labels.cuda())\n",
        "\n",
        "        # Backward pass // calc derivatvies \n",
        "        loss.backward()\n",
        "        optimizer.step()\n",
        "\n",
        "        total_loss += loss.item()\n",
        "    else:\n",
        "        print(f'Training loss: {total_loss / 1000}', end=' ')\n",
        "\n",
        "    # Evaluation\n",
        "    model.eval()\n",
        "    with torch.no_grad():\n",
        "        total = 0\n",
        "        correct = 0\n",
        "        for images, labels in test_loader:\n",
        "            output = model(images.cuda())\n",
        "\n",
        "            mx_index = torch.argmax(output, dim=1)\n",
        "            total += labels.numel()\n",
        "            correct += sum(mx_index == labels.cuda()).item()\n",
        "        print(f'Test Accuracy {correct / total * 100:.2f}')\n",
        "\n"
      ],
      "metadata": {
        "id": "BsINDCB_x-b_",
        "outputId": "32b355d3-014c-4566-fdb5-f52d5d2dd4a3",
        "colab": {
          "base_uri": "https://localhost:8080/",
          "height": 514
        }
      },
      "execution_count": 25,
      "outputs": [
        {
          "output_type": "error",
          "ename": "ValueError",
          "evalue": "ignored",
          "traceback": [
            "\u001b[0;31m---------------------------------------------------------------------------\u001b[0m",
            "\u001b[0;31mValueError\u001b[0m                                Traceback (most recent call last)",
            "\u001b[0;32m<ipython-input-25-ecc0f6e3c5db>\u001b[0m in \u001b[0;36m<module>\u001b[0;34m\u001b[0m\n\u001b[1;32m     11\u001b[0m         \u001b[0;31m# Forward pass\u001b[0m\u001b[0;34m\u001b[0m\u001b[0;34m\u001b[0m\u001b[0m\n\u001b[1;32m     12\u001b[0m         \u001b[0moutput\u001b[0m \u001b[0;34m=\u001b[0m \u001b[0mmodel\u001b[0m\u001b[0;34m(\u001b[0m\u001b[0mimages\u001b[0m\u001b[0;34m.\u001b[0m\u001b[0mcuda\u001b[0m\u001b[0;34m(\u001b[0m\u001b[0;34m)\u001b[0m\u001b[0;34m)\u001b[0m\u001b[0;34m\u001b[0m\u001b[0;34m\u001b[0m\u001b[0m\n\u001b[0;32m---> 13\u001b[0;31m         \u001b[0mloss\u001b[0m \u001b[0;34m=\u001b[0m \u001b[0mcriterion\u001b[0m\u001b[0;34m(\u001b[0m\u001b[0moutput\u001b[0m\u001b[0;34m,\u001b[0m \u001b[0mlabels\u001b[0m\u001b[0;34m.\u001b[0m\u001b[0mcuda\u001b[0m\u001b[0;34m(\u001b[0m\u001b[0;34m)\u001b[0m\u001b[0;34m)\u001b[0m\u001b[0;34m\u001b[0m\u001b[0;34m\u001b[0m\u001b[0m\n\u001b[0m\u001b[1;32m     14\u001b[0m \u001b[0;34m\u001b[0m\u001b[0m\n\u001b[1;32m     15\u001b[0m         \u001b[0;31m# Backward pass // calc derivatvies\u001b[0m\u001b[0;34m\u001b[0m\u001b[0;34m\u001b[0m\u001b[0m\n",
            "\u001b[0;32m/usr/local/lib/python3.9/dist-packages/torch/nn/modules/module.py\u001b[0m in \u001b[0;36m_call_impl\u001b[0;34m(self, *input, **kwargs)\u001b[0m\n\u001b[1;32m   1192\u001b[0m         if not (self._backward_hooks or self._forward_hooks or self._forward_pre_hooks or _global_backward_hooks\n\u001b[1;32m   1193\u001b[0m                 or _global_forward_hooks or _global_forward_pre_hooks):\n\u001b[0;32m-> 1194\u001b[0;31m             \u001b[0;32mreturn\u001b[0m \u001b[0mforward_call\u001b[0m\u001b[0;34m(\u001b[0m\u001b[0;34m*\u001b[0m\u001b[0minput\u001b[0m\u001b[0;34m,\u001b[0m \u001b[0;34m**\u001b[0m\u001b[0mkwargs\u001b[0m\u001b[0;34m)\u001b[0m\u001b[0;34m\u001b[0m\u001b[0;34m\u001b[0m\u001b[0m\n\u001b[0m\u001b[1;32m   1195\u001b[0m         \u001b[0;31m# Do not call functions when jit is used\u001b[0m\u001b[0;34m\u001b[0m\u001b[0;34m\u001b[0m\u001b[0m\n\u001b[1;32m   1196\u001b[0m         \u001b[0mfull_backward_hooks\u001b[0m\u001b[0;34m,\u001b[0m \u001b[0mnon_full_backward_hooks\u001b[0m \u001b[0;34m=\u001b[0m \u001b[0;34m[\u001b[0m\u001b[0;34m]\u001b[0m\u001b[0;34m,\u001b[0m \u001b[0;34m[\u001b[0m\u001b[0;34m]\u001b[0m\u001b[0;34m\u001b[0m\u001b[0;34m\u001b[0m\u001b[0m\n",
            "\u001b[0;32m/usr/local/lib/python3.9/dist-packages/torch/nn/modules/loss.py\u001b[0m in \u001b[0;36mforward\u001b[0;34m(self, input, target)\u001b[0m\n\u001b[1;32m    214\u001b[0m \u001b[0;34m\u001b[0m\u001b[0m\n\u001b[1;32m    215\u001b[0m     \u001b[0;32mdef\u001b[0m \u001b[0mforward\u001b[0m\u001b[0;34m(\u001b[0m\u001b[0mself\u001b[0m\u001b[0;34m,\u001b[0m \u001b[0minput\u001b[0m\u001b[0;34m:\u001b[0m \u001b[0mTensor\u001b[0m\u001b[0;34m,\u001b[0m \u001b[0mtarget\u001b[0m\u001b[0;34m:\u001b[0m \u001b[0mTensor\u001b[0m\u001b[0;34m)\u001b[0m \u001b[0;34m->\u001b[0m \u001b[0mTensor\u001b[0m\u001b[0;34m:\u001b[0m\u001b[0;34m\u001b[0m\u001b[0;34m\u001b[0m\u001b[0m\n\u001b[0;32m--> 216\u001b[0;31m         \u001b[0;32mreturn\u001b[0m \u001b[0mF\u001b[0m\u001b[0;34m.\u001b[0m\u001b[0mnll_loss\u001b[0m\u001b[0;34m(\u001b[0m\u001b[0minput\u001b[0m\u001b[0;34m,\u001b[0m \u001b[0mtarget\u001b[0m\u001b[0;34m,\u001b[0m \u001b[0mweight\u001b[0m\u001b[0;34m=\u001b[0m\u001b[0mself\u001b[0m\u001b[0;34m.\u001b[0m\u001b[0mweight\u001b[0m\u001b[0;34m,\u001b[0m \u001b[0mignore_index\u001b[0m\u001b[0;34m=\u001b[0m\u001b[0mself\u001b[0m\u001b[0;34m.\u001b[0m\u001b[0mignore_index\u001b[0m\u001b[0;34m,\u001b[0m \u001b[0mreduction\u001b[0m\u001b[0;34m=\u001b[0m\u001b[0mself\u001b[0m\u001b[0;34m.\u001b[0m\u001b[0mreduction\u001b[0m\u001b[0;34m)\u001b[0m\u001b[0;34m\u001b[0m\u001b[0;34m\u001b[0m\u001b[0m\n\u001b[0m\u001b[1;32m    217\u001b[0m \u001b[0;34m\u001b[0m\u001b[0m\n\u001b[1;32m    218\u001b[0m \u001b[0;34m\u001b[0m\u001b[0m\n",
            "\u001b[0;32m/usr/local/lib/python3.9/dist-packages/torch/nn/functional.py\u001b[0m in \u001b[0;36mnll_loss\u001b[0;34m(input, target, weight, size_average, ignore_index, reduce, reduction)\u001b[0m\n\u001b[1;32m   2699\u001b[0m     \u001b[0;32mif\u001b[0m \u001b[0msize_average\u001b[0m \u001b[0;32mis\u001b[0m \u001b[0;32mnot\u001b[0m \u001b[0;32mNone\u001b[0m \u001b[0;32mor\u001b[0m \u001b[0mreduce\u001b[0m \u001b[0;32mis\u001b[0m \u001b[0;32mnot\u001b[0m \u001b[0;32mNone\u001b[0m\u001b[0;34m:\u001b[0m\u001b[0;34m\u001b[0m\u001b[0;34m\u001b[0m\u001b[0m\n\u001b[1;32m   2700\u001b[0m         \u001b[0mreduction\u001b[0m \u001b[0;34m=\u001b[0m \u001b[0m_Reduction\u001b[0m\u001b[0;34m.\u001b[0m\u001b[0mlegacy_get_string\u001b[0m\u001b[0;34m(\u001b[0m\u001b[0msize_average\u001b[0m\u001b[0;34m,\u001b[0m \u001b[0mreduce\u001b[0m\u001b[0;34m)\u001b[0m\u001b[0;34m\u001b[0m\u001b[0;34m\u001b[0m\u001b[0m\n\u001b[0;32m-> 2701\u001b[0;31m     \u001b[0;32mreturn\u001b[0m \u001b[0mtorch\u001b[0m\u001b[0;34m.\u001b[0m\u001b[0m_C\u001b[0m\u001b[0;34m.\u001b[0m\u001b[0m_nn\u001b[0m\u001b[0;34m.\u001b[0m\u001b[0mnll_loss_nd\u001b[0m\u001b[0;34m(\u001b[0m\u001b[0minput\u001b[0m\u001b[0;34m,\u001b[0m \u001b[0mtarget\u001b[0m\u001b[0;34m,\u001b[0m \u001b[0mweight\u001b[0m\u001b[0;34m,\u001b[0m \u001b[0m_Reduction\u001b[0m\u001b[0;34m.\u001b[0m\u001b[0mget_enum\u001b[0m\u001b[0;34m(\u001b[0m\u001b[0mreduction\u001b[0m\u001b[0;34m)\u001b[0m\u001b[0;34m,\u001b[0m \u001b[0mignore_index\u001b[0m\u001b[0;34m)\u001b[0m\u001b[0;34m\u001b[0m\u001b[0;34m\u001b[0m\u001b[0m\n\u001b[0m\u001b[1;32m   2702\u001b[0m \u001b[0;34m\u001b[0m\u001b[0m\n\u001b[1;32m   2703\u001b[0m \u001b[0;34m\u001b[0m\u001b[0m\n",
            "\u001b[0;31mValueError\u001b[0m: Expected input batch_size (64) to match target batch_size (16)."
          ]
        }
      ]
    },
    {
      "cell_type": "code",
      "source": [
        "with torch.no_grad():\n",
        "\n",
        "    data, target = next(iter(test_loader))\n",
        "    data, target = data.to(device), target.to(device)\n",
        "\n",
        "    data = data.view(-1, 28*28)\n",
        "    output = model(data)\n",
        "    predictions = np.argmax(output.cpu().numpy(), axis=1).tolist()\n",
        "    true = target.cpu().numpy().tolist()\n",
        "      \n",
        "    plt.figure(figsize=(16, 6))\n",
        "    for i in range(10):\n",
        "        plt.subplot(2, 5, i + 1)\n",
        "        image = data[i,...].cpu().numpy().reshape((28,28))\n",
        "        plt.imshow(image, cmap=\"gray\")\n",
        "        plt.axis('off')\n",
        "        plt.title('Predicted as {}\\n True label is {}'.format(test_set.classes[predictions[i]], test_set.classes[true[i]], ))"
      ],
      "metadata": {
        "id": "pUBLXiXV8tQU",
        "outputId": "13e3ccc5-aec3-4fbe-dcbd-f101bb53a08b",
        "colab": {
          "base_uri": "https://localhost:8080/",
          "height": 276
        }
      },
      "execution_count": 19,
      "outputs": [
        {
          "output_type": "display_data",
          "data": {
            "text/plain": [
              "<Figure size 1152x432 with 10 Axes>"
            ],
            "image/png": "[encoded data removed]"
          },
          "metadata": {
            "needs_background": "light"
          }
        }
      ]
    }
  ]
}