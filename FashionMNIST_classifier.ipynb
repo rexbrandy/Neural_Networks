{
  "nbformat": 4,
  "nbformat_minor": 0,
  "metadata": {
    "colab": {
      "provenance": [],
      "authorship_tag": "ABX9TyN8RTsFGZEzxXSfC1cg7pLY"
    },
    "kernelspec": {
      "name": "python3",
      "display_name": "Python 3"
    },
    "language_info": {
      "name": "python"
    },
    "accelerator": "GPU",
    "gpuClass": "standard"
  },
  "cells": [
    {
      "cell_type": "markdown",
      "source": [
        "# Fashion MNIST Classifier"
      ],
      "metadata": {
        "id": "hH9mxM96fk-y"
      }
    },
    {
      "cell_type": "markdown",
      "source": [
        "### Import everything and define train and test sets/loaders"
      ],
      "metadata": {
        "id": "qUz6yutfXDl5"
      }
    },
    {
      "cell_type": "code",
      "execution_count": null,
      "metadata": {
        "id": "8Mj8w7wDOWDH"
      },
      "outputs": [],
      "source": [
        "import matplotlib.pyplot as plt\n",
        "\n",
        "import numpy as np\n",
        "\n",
        "import torch\n",
        "import torch.nn as nn\n",
        "import torch.nn.functional as F\n",
        "import torch.optim as optim\n",
        "\n",
        "import torchvision\n",
        "import torchvision.transforms as transforms\n",
        "import torchvision.datasets as datasets\n",
        "\n",
        "\n",
        "assert torch.cuda.is_available(), \"GPU is not enabled\"\n",
        "\n",
        "# use gpu if available\n",
        "device = torch.device(\"cuda:0\" if torch.cuda.is_available() else \"cpu\")\n",
        "\n",
        "# Declare the transform\n",
        "transform = transforms.Compose(\n",
        "    [transforms.ToTensor(), # Transform image to tensor\n",
        "     transforms.Normalize((0.5,),(0.5,))] # Normalize data\n",
        ")\n",
        "\n",
        "# Declare training and testing sets\n",
        "train_set = datasets.FashionMNIST('data',\n",
        "  download=True,\n",
        "  train=True,\n",
        "  transform=transform\n",
        ")\n",
        "test_set = datasets.FashionMNIST('data',\n",
        "  download=True,\n",
        "  train=False,\n",
        "  transform=transform\n",
        ")\n",
        "\n",
        "# Declare dataloaders\n",
        "train_loader = torch.utils.data.DataLoader(train_set, batch_size=64,\n",
        "                                           shuffle=True, num_workers=1)\n",
        "\n",
        "test_loader = torch.utils.data.DataLoader(test_set, batch_size=64,\n",
        "                                           shuffle=True, num_workers=1)\n",
        "\n",
        "# constant for classes\n",
        "classes = ('T-shirt/top', 'Trouser', 'Pullover', 'Dress', 'Coat',\n",
        "           'Sandal', 'Shirt', 'Sneaker', 'Bag', 'Ankle Boot')\n",
        "\n",
        "\n",
        "# Here we can see the images\n",
        "plt.figure(figsize=(16, 6))\n",
        "for i in range(10):\n",
        "    plt.subplot(2, 5, i + 1)\n",
        "    image = train_set.data[i,...]\n",
        "    plt.imshow(image.squeeze().numpy(), cmap=\"gray\")\n",
        "    plt.axis('off');\n",
        "\n",
        "  "
      ]
    },
    {
      "cell_type": "markdown",
      "source": [
        "### Define our classifier"
      ],
      "metadata": {
        "id": "tgvjJqWpW-7s"
      }
    },
    {
      "cell_type": "code",
      "source": [
        "import torch.nn as nn\n",
        "import torch.nn.functional as F\n",
        "\n",
        "class Classifier(nn.Module):\n",
        "    def __init__(self):\n",
        "        super().__init__()\n",
        "        self.fc1 = nn.Linear(784, 256) # Input layer should be 784 because images are 28x28 - one for every feature (pixel)\n",
        "        self.fc2 = nn.Linear(256, 128)\n",
        "        self.fc3 = nn.Linear(128, 64)\n",
        "        self.fc4 = nn.Linear(64, 10) # we have 10 classes so output should be one of those\n",
        "\n",
        "    def forward(self, x):\n",
        "        # make sure input is flat\n",
        "        x = x.view(x.shape[0], -1)\n",
        "\n",
        "        # for every layer we should activate output with ReLU\n",
        "        x = F.relu(self.fc1(x)) \n",
        "        x = F.relu(self.fc2(x))\n",
        "        x = F.relu(self.fc3(x))\n",
        "        x = F.log_softmax(self.fc4(x), dim=1)\n",
        "\n",
        "        return x\n",
        "        "
      ],
      "metadata": {
        "id": "PUNoNgoaXMxo"
      },
      "execution_count": 3,
      "outputs": []
    },
    {
      "cell_type": "markdown",
      "source": [
        "### Define loss function and optimizer "
      ],
      "metadata": {
        "id": "CNpZZ5WOdPui"
      }
    },
    {
      "cell_type": "markdown",
      "source": [
        "This `initialize_parameters()` function allows us to change the initial weights and biases. Although I find changing the initial parameters to the inccorect thing sort of breaks the neural network.\n",
        "\n",
        "It is important that initial weights and biases are set correctly otherwise the neural network may die or get stuck on plateaus.\n",
        "\n",
        "You can find more initialization methods in the [`torch.nn.init`](https://pytorch.org/docs/stable/nn.init.html?highlight=init) module."
      ],
      "metadata": {
        "id": "HV1dTH48OC8r"
      }
    },
    {
      "cell_type": "code",
      "source": [
        "def initialize_parameters(model):\n",
        "    for name, w in model.named_parameters():\n",
        "        print(name, w)\n",
        "        if \"weight\" in name:\n",
        "            nn.init.eye_(w)\n",
        "        \n",
        "        if \"bias\" in name:\n",
        "            nn.init.zeros_(w)   "
      ],
      "metadata": {
        "id": "qXZt-b_i9Fxr"
      },
      "execution_count": 11,
      "outputs": []
    },
    {
      "cell_type": "code",
      "source": [
        "import torch.optim as optim\n",
        "\n",
        "# Create model instance\n",
        "model = Classifier()\n",
        "model.cuda()# Move to GPU\n",
        "\n",
        "# Define metric for loss function\n",
        "criterion = nn.NLLLoss()\n",
        "\n",
        "# Select optimizer and pass learning rate\n",
        "optimizer = optim.SGD(model.parameters(), lr=0.01)\n",
        "\n",
        "# Here we change the initial weights+bias in each layer\n",
        "# initialize_parameters(model)"
      ],
      "metadata": {
        "id": "bGWh8j1mdVzs"
      },
      "execution_count": 20,
      "outputs": []
    },
    {
      "cell_type": "markdown",
      "source": [
        "### Test gradient computation"
      ],
      "metadata": {
        "id": "J32gbalhfdZr"
      }
    },
    {
      "cell_type": "code",
      "source": [
        "images, labels = next(iter(train_loader))\n",
        "log_ps = model(images.cuda())\n",
        "loss = criterion(log_ps, labels.cuda())\n",
        "\n",
        "loss.backward()\n",
        "\n",
        "print(model.fc2.weight.grad)"
      ],
      "metadata": {
        "id": "aweTw9kgfxMV"
      },
      "execution_count": null,
      "outputs": []
    },
    {
      "cell_type": "markdown",
      "source": [
        "### Training Loop\n"
      ],
      "metadata": {
        "id": "5u0g3FZ0x7i2"
      }
    },
    {
      "cell_type": "code",
      "source": [
        "losses = {'train': [], 'eval': []} # this will be used to graph loss\n",
        "\n",
        "epochs = 10\n",
        "for e in range(epochs):\n",
        "    # Training\n",
        "    total_loss = 0\n",
        "    \n",
        "    model.train() # Turn on training mode\n",
        "\n",
        "    for images, labels in train_loader:\n",
        "        optimizer.zero_grad() # Zero gradients to start off loop\n",
        "\n",
        "        # Forward pass\n",
        "        output = model(images.cuda())\n",
        "        loss = criterion(output, labels.cuda())\n",
        "\n",
        "        # Backward pass // calc derivatvies \n",
        "        loss.backward()\n",
        "        optimizer.step()\n",
        "\n",
        "        total_loss += loss.item()\n",
        "    else:\n",
        "        print(f'Training loss: {total_loss / len(train_loader)}', end=' ')\n",
        "        losses['train'].append(total_loss / len(train_loader))\n",
        "\n",
        "    # Evaluation\n",
        "    model.eval()\n",
        "    with torch.no_grad():\n",
        "        total = 0\n",
        "        total_loss = 0 # we get the total loss here to graph it later\n",
        "        correct = 0\n",
        "        for images, labels in test_loader:\n",
        "            output = model(images.cuda())\n",
        "            loss = criterion(output, labels.cuda())\n",
        "\n",
        "            total_loss += loss.item()\n",
        "\n",
        "            mx_index = torch.argmax(output, dim=1)\n",
        "            total += labels.numel()\n",
        "            correct += sum(mx_index == labels.cuda()).item()\n",
        "\n",
        "        print(f'Test Accuracy {correct / total * 100:.2f}')\n",
        "        losses['eval'].append(total_loss/len(test_loader))\n",
        "\n"
      ],
      "metadata": {
        "colab": {
          "base_uri": "https://localhost:8080/"
        },
        "id": "BsINDCB_x-b_",
        "outputId": "e9818ebf-a687-461c-8306-1bdfc22a6af6"
      },
      "execution_count": 21,
      "outputs": [
        {
          "output_type": "stream",
          "name": "stdout",
          "text": [
            "Training loss: 1.2976862819972577 Test Accuracy 73.39\n",
            "Training loss: 0.6119189207741955 Test Accuracy 79.02\n",
            "Training loss: 0.5231141786712573 Test Accuracy 80.48\n",
            "Training loss: 0.47556767267967337 Test Accuracy 81.43\n",
            "Training loss: 0.44516373320873864 Test Accuracy 82.72\n",
            "Training loss: 0.42562204559665245 Test Accuracy 83.35\n",
            "Training loss: 0.40807751864830316 Test Accuracy 84.07\n",
            "Training loss: 0.3917325128084307 Test Accuracy 85.09\n",
            "Training loss: 0.37932195071218366 Test Accuracy 84.69\n",
            "Training loss: 0.36699360110231044 Test Accuracy 85.06\n"
          ]
        }
      ]
    },
    {
      "cell_type": "code",
      "source": [
        "plt.plot(losses[\"train\"], label=\"training loss\")\n",
        "plt.plot(losses[\"eval\"], label=\"evaluation loss\")\n",
        "\n",
        "plt.legend()\n",
        "plt.pause(0.000001)\n",
        "plt.show()\n",
        "\n",
        "print()\n",
        "\n",
        "with torch.no_grad():\n",
        "    data, target = next(iter(test_loader))\n",
        "    data, target = data.to(device), target.to(device)\n",
        "\n",
        "    data = data.view(-1, 28*28)\n",
        "    output = model(data)\n",
        "    predictions = np.argmax(output.cpu().numpy(), axis=1).tolist()\n",
        "    true = target.cpu().numpy().tolist()\n",
        "      \n",
        "    plt.figure(figsize=(16, 6))\n",
        "    for i in range(10):\n",
        "        plt.subplot(2, 5, i + 1)\n",
        "        image = data[i,...].cpu().numpy().reshape((28,28))\n",
        "        plt.imshow(image, cmap=\"gray\")\n",
        "        plt.axis('off')\n",
        "        plt.title('Predicted as {}\\n True label is {}'.format(test_set.classes[predictions[i]], test_set.classes[true[i]], ))"
      ],
      "metadata": {
        "colab": {
          "base_uri": "https://localhost:8080/",
          "height": 654
        },
        "id": "pUBLXiXV8tQU",
        "outputId": "fd01bf41-3f9f-4b50-8f3f-7f3e21f991f4"
      },
      "execution_count": 23,
      "outputs": [
        {
          "output_type": "display_data",
          "data": {
            "text/plain": [
              "<Figure size 432x288 with 1 Axes>"
            ],
            "image/png": "[encoded data removed]"
          },
          "metadata": {
            "needs_background": "light"
          }
        },
        {
          "output_type": "stream",
          "name": "stdout",
          "text": [
            "\n"
          ]
        },
        {
          "output_type": "display_data",
          "data": {
            "text/plain": [
              "<Figure size 1152x432 with 10 Axes>"
            ],
            "image/png": "[encoded data removed]"
          },
          "metadata": {
            "needs_background": "light"
          }
        }
      ]
    }
  ]
}